{
 "cells": [
  {
   "cell_type": "code",
   "execution_count": 1,
   "metadata": {},
   "outputs": [
    {
     "name": "stdout",
     "output_type": "stream",
     "text": [
      "Requirement already satisfied: tensorflow==2.6.0 in c:\\python_test\\venv20211007\\lib\\site-packages (2.6.0)\n",
      "Requirement already satisfied: six~=1.15.0 in c:\\python_test\\venv20211007\\lib\\site-packages (from tensorflow==2.6.0) (1.15.0)\n",
      "Requirement already satisfied: typing-extensions~=3.7.4 in c:\\python_test\\venv20211007\\lib\\site-packages (from tensorflow==2.6.0) (3.7.4.3)\n",
      "Requirement already satisfied: astunparse~=1.6.3 in c:\\python_test\\venv20211007\\lib\\site-packages (from tensorflow==2.6.0) (1.6.3)\n",
      "Requirement already satisfied: keras~=2.6 in c:\\python_test\\venv20211007\\lib\\site-packages (from tensorflow==2.6.0) (2.6.0)\n",
      "Requirement already satisfied: tensorboard~=2.6 in c:\\python_test\\venv20211007\\lib\\site-packages (from tensorflow==2.6.0) (2.6.0)\n",
      "Requirement already satisfied: clang~=5.0 in c:\\python_test\\venv20211007\\lib\\site-packages (from tensorflow==2.6.0) (5.0)\n",
      "Requirement already satisfied: wrapt~=1.12.1 in c:\\python_test\\venv20211007\\lib\\site-packages (from tensorflow==2.6.0) (1.12.1)\n",
      "Requirement already satisfied: tensorflow-estimator~=2.6 in c:\\python_test\\venv20211007\\lib\\site-packages (from tensorflow==2.6.0) (2.6.0)\n",
      "Requirement already satisfied: wheel~=0.35 in c:\\python_test\\venv20211007\\lib\\site-packages (from tensorflow==2.6.0) (0.37.0)\n",
      "Requirement already satisfied: absl-py~=0.10 in c:\\python_test\\venv20211007\\lib\\site-packages (from tensorflow==2.6.0) (0.14.1)\n",
      "Requirement already satisfied: opt-einsum~=3.3.0 in c:\\python_test\\venv20211007\\lib\\site-packages (from tensorflow==2.6.0) (3.3.0)\n",
      "Requirement already satisfied: keras-preprocessing~=1.1.2 in c:\\python_test\\venv20211007\\lib\\site-packages (from tensorflow==2.6.0) (1.1.2)\n",
      "Requirement already satisfied: termcolor~=1.1.0 in c:\\python_test\\venv20211007\\lib\\site-packages (from tensorflow==2.6.0) (1.1.0)\n",
      "Requirement already satisfied: h5py~=3.1.0 in c:\\python_test\\venv20211007\\lib\\site-packages (from tensorflow==2.6.0) (3.1.0)\n",
      "Requirement already satisfied: flatbuffers~=1.12.0 in c:\\python_test\\venv20211007\\lib\\site-packages (from tensorflow==2.6.0) (1.12)\n",
      "Requirement already satisfied: numpy~=1.19.2 in c:\\python_test\\venv20211007\\lib\\site-packages (from tensorflow==2.6.0) (1.19.5)\n",
      "Requirement already satisfied: gast==0.4.0 in c:\\python_test\\venv20211007\\lib\\site-packages (from tensorflow==2.6.0) (0.4.0)\n",
      "Requirement already satisfied: protobuf>=3.9.2 in c:\\python_test\\venv20211007\\lib\\site-packages (from tensorflow==2.6.0) (3.18.1)\n",
      "Requirement already satisfied: google-pasta~=0.2 in c:\\python_test\\venv20211007\\lib\\site-packages (from tensorflow==2.6.0) (0.2.0)\n",
      "Requirement already satisfied: grpcio<2.0,>=1.37.0 in c:\\python_test\\venv20211007\\lib\\site-packages (from tensorflow==2.6.0) (1.41.0)\n",
      "Requirement already satisfied: google-auth<2,>=1.6.3 in c:\\python_test\\venv20211007\\lib\\site-packages (from tensorboard~=2.6->tensorflow==2.6.0) (1.35.0)\n",
      "Requirement already satisfied: tensorboard-data-server<0.7.0,>=0.6.0 in c:\\python_test\\venv20211007\\lib\\site-packages (from tensorboard~=2.6->tensorflow==2.6.0) (0.6.1)\n",
      "Requirement already satisfied: requests<3,>=2.21.0 in c:\\python_test\\venv20211007\\lib\\site-packages (from tensorboard~=2.6->tensorflow==2.6.0) (2.26.0)\n",
      "Requirement already satisfied: markdown>=2.6.8 in c:\\python_test\\venv20211007\\lib\\site-packages (from tensorboard~=2.6->tensorflow==2.6.0) (3.3.4)\n",
      "Requirement already satisfied: tensorboard-plugin-wit>=1.6.0 in c:\\python_test\\venv20211007\\lib\\site-packages (from tensorboard~=2.6->tensorflow==2.6.0) (1.8.0)\n",
      "Requirement already satisfied: setuptools>=41.0.0 in c:\\python_test\\venv20211007\\lib\\site-packages (from tensorboard~=2.6->tensorflow==2.6.0) (49.2.1)\n",
      "Requirement already satisfied: werkzeug>=0.11.15 in c:\\python_test\\venv20211007\\lib\\site-packages (from tensorboard~=2.6->tensorflow==2.6.0) (2.0.2)\n",
      "Requirement already satisfied: google-auth-oauthlib<0.5,>=0.4.1 in c:\\python_test\\venv20211007\\lib\\site-packages (from tensorboard~=2.6->tensorflow==2.6.0) (0.4.6)\n",
      "Requirement already satisfied: rsa<5,>=3.1.4 in c:\\python_test\\venv20211007\\lib\\site-packages (from google-auth<2,>=1.6.3->tensorboard~=2.6->tensorflow==2.6.0) (4.7.2)\n",
      "Requirement already satisfied: pyasn1-modules>=0.2.1 in c:\\python_test\\venv20211007\\lib\\site-packages (from google-auth<2,>=1.6.3->tensorboard~=2.6->tensorflow==2.6.0) (0.2.8)\n",
      "Requirement already satisfied: cachetools<5.0,>=2.0.0 in c:\\python_test\\venv20211007\\lib\\site-packages (from google-auth<2,>=1.6.3->tensorboard~=2.6->tensorflow==2.6.0) (4.2.4)\n",
      "Requirement already satisfied: requests-oauthlib>=0.7.0 in c:\\python_test\\venv20211007\\lib\\site-packages (from google-auth-oauthlib<0.5,>=0.4.1->tensorboard~=2.6->tensorflow==2.6.0) (1.3.0)\n",
      "Requirement already satisfied: idna<4,>=2.5 in c:\\python_test\\venv20211007\\lib\\site-packages (from requests<3,>=2.21.0->tensorboard~=2.6->tensorflow==2.6.0) (3.2)\n",
      "Requirement already satisfied: urllib3<1.27,>=1.21.1 in c:\\python_test\\venv20211007\\lib\\site-packages (from requests<3,>=2.21.0->tensorboard~=2.6->tensorflow==2.6.0) (1.26.7)\n",
      "Requirement already satisfied: certifi>=2017.4.17 in c:\\python_test\\venv20211007\\lib\\site-packages (from requests<3,>=2.21.0->tensorboard~=2.6->tensorflow==2.6.0) (2021.5.30)\n",
      "Requirement already satisfied: charset-normalizer~=2.0.0 in c:\\python_test\\venv20211007\\lib\\site-packages (from requests<3,>=2.21.0->tensorboard~=2.6->tensorflow==2.6.0) (2.0.6)\n",
      "Requirement already satisfied: pyasn1<0.5.0,>=0.4.6 in c:\\python_test\\venv20211007\\lib\\site-packages (from pyasn1-modules>=0.2.1->google-auth<2,>=1.6.3->tensorboard~=2.6->tensorflow==2.6.0) (0.4.8)\n",
      "Requirement already satisfied: oauthlib>=3.0.0 in c:\\python_test\\venv20211007\\lib\\site-packages (from requests-oauthlib>=0.7.0->google-auth-oauthlib<0.5,>=0.4.1->tensorboard~=2.6->tensorflow==2.6.0) (3.1.1)\n",
      "Collecting librosa\n",
      "  Downloading librosa-0.8.1-py3-none-any.whl (203 kB)\n",
      "Collecting soundfile>=0.10.2\n",
      "  Downloading SoundFile-0.10.3.post1-py2.py3.cp26.cp27.cp32.cp33.cp34.cp35.cp36.pp27.pp32.pp33-none-win_amd64.whl (689 kB)\n",
      "Requirement already satisfied: decorator>=3.0.0 in c:\\python_test\\venv20211007\\lib\\site-packages (from librosa) (5.1.0)\n",
      "Requirement already satisfied: numpy>=1.15.0 in c:\\python_test\\venv20211007\\lib\\site-packages (from librosa) (1.19.5)\n",
      "Collecting resampy>=0.2.2\n",
      "  Downloading resampy-0.2.2.tar.gz (323 kB)\n",
      "  Preparing metadata (setup.py): started\n",
      "  Preparing metadata (setup.py): finished with status 'done'\n",
      "Collecting numba>=0.43.0\n",
      "  Downloading numba-0.54.1-cp38-cp38-win_amd64.whl (2.3 MB)\n",
      "Collecting pooch>=1.0\n",
      "  Downloading pooch-1.5.2-py3-none-any.whl (57 kB)\n",
      "Collecting audioread>=2.0.0\n",
      "  Downloading audioread-2.1.9.tar.gz (377 kB)\n",
      "  Preparing metadata (setup.py): started\n",
      "  Preparing metadata (setup.py): finished with status 'done'\n",
      "Requirement already satisfied: scipy>=1.0.0 in c:\\python_test\\venv20211007\\lib\\site-packages (from librosa) (1.7.1)\n",
      "Requirement already satisfied: packaging>=20.0 in c:\\python_test\\venv20211007\\lib\\site-packages (from librosa) (21.2)\n",
      "Requirement already satisfied: joblib>=0.14 in c:\\python_test\\venv20211007\\lib\\site-packages (from librosa) (1.1.0)\n",
      "Requirement already satisfied: scikit-learn!=0.19.0,>=0.14.0 in c:\\python_test\\venv20211007\\lib\\site-packages (from librosa) (1.0.1)\n",
      "Requirement already satisfied: setuptools in c:\\python_test\\venv20211007\\lib\\site-packages (from numba>=0.43.0->librosa) (49.2.1)\n",
      "Collecting llvmlite<0.38,>=0.37.0rc1\n",
      "  Downloading llvmlite-0.37.0-cp38-cp38-win_amd64.whl (17.0 MB)\n",
      "Requirement already satisfied: pyparsing<3,>=2.0.2 in c:\\python_test\\venv20211007\\lib\\site-packages (from packaging>=20.0->librosa) (2.4.7)\n",
      "Requirement already satisfied: appdirs in c:\\python_test\\venv20211007\\lib\\site-packages (from pooch>=1.0->librosa) (1.4.4)\n",
      "Requirement already satisfied: requests in c:\\python_test\\venv20211007\\lib\\site-packages (from pooch>=1.0->librosa) (2.26.0)\n",
      "Requirement already satisfied: six>=1.3 in c:\\python_test\\venv20211007\\lib\\site-packages (from resampy>=0.2.2->librosa) (1.15.0)\n",
      "Requirement already satisfied: threadpoolctl>=2.0.0 in c:\\python_test\\venv20211007\\lib\\site-packages (from scikit-learn!=0.19.0,>=0.14.0->librosa) (3.0.0)\n",
      "Requirement already satisfied: cffi>=1.0 in c:\\python_test\\venv20211007\\lib\\site-packages (from soundfile>=0.10.2->librosa) (1.15.0)\n",
      "Requirement already satisfied: pycparser in c:\\python_test\\venv20211007\\lib\\site-packages (from cffi>=1.0->soundfile>=0.10.2->librosa) (2.21)\n",
      "Requirement already satisfied: urllib3<1.27,>=1.21.1 in c:\\python_test\\venv20211007\\lib\\site-packages (from requests->pooch>=1.0->librosa) (1.26.7)\n",
      "Requirement already satisfied: certifi>=2017.4.17 in c:\\python_test\\venv20211007\\lib\\site-packages (from requests->pooch>=1.0->librosa) (2021.5.30)\n",
      "Requirement already satisfied: idna<4,>=2.5 in c:\\python_test\\venv20211007\\lib\\site-packages (from requests->pooch>=1.0->librosa) (3.2)\n",
      "Requirement already satisfied: charset-normalizer~=2.0.0 in c:\\python_test\\venv20211007\\lib\\site-packages (from requests->pooch>=1.0->librosa) (2.0.6)\n",
      "Building wheels for collected packages: audioread, resampy\n",
      "  Building wheel for audioread (setup.py): started\n",
      "  Building wheel for audioread (setup.py): finished with status 'done'\n",
      "  Created wheel for audioread: filename=audioread-2.1.9-py3-none-any.whl size=23143 sha256=514a087793d45acff41fe8f3f9e2123c43e35a29181467a4d925955d090d8597\n",
      "  Stored in directory: c:\\users\\user\\appdata\\local\\pip\\cache\\wheels\\49\\5a\\e4\\df590783499a992a88de6c0898991d1167453a3196d0d1eeb7\n",
      "  Building wheel for resampy (setup.py): started\n",
      "  Building wheel for resampy (setup.py): finished with status 'done'\n",
      "  Created wheel for resampy: filename=resampy-0.2.2-py3-none-any.whl size=320719 sha256=219bfe24dfe0a7fee952ecd8da17c4f4ad151057d59b8279ec8e7d362fe20b1a\n",
      "  Stored in directory: c:\\users\\user\\appdata\\local\\pip\\cache\\wheels\\6f\\d1\\5d\\f13da53b1dcbc2624ff548456c9ffb526c914f53c12c318bb4\n",
      "Successfully built audioread resampy\n",
      "Installing collected packages: llvmlite, numba, soundfile, resampy, pooch, audioread, librosa\n",
      "Successfully installed audioread-2.1.9 librosa-0.8.1 llvmlite-0.37.0 numba-0.54.1 pooch-1.5.2 resampy-0.2.2 soundfile-0.10.3.post1\n",
      "Requirement already satisfied: matplotlib in c:\\python_test\\venv20211007\\lib\\site-packages (3.4.3)\n",
      "Requirement already satisfied: pillow>=6.2.0 in c:\\python_test\\venv20211007\\lib\\site-packages (from matplotlib) (8.3.2)\n",
      "Requirement already satisfied: python-dateutil>=2.7 in c:\\python_test\\venv20211007\\lib\\site-packages (from matplotlib) (2.8.2)\n",
      "Requirement already satisfied: pyparsing>=2.2.1 in c:\\python_test\\venv20211007\\lib\\site-packages (from matplotlib) (2.4.7)\n",
      "Requirement already satisfied: cycler>=0.10 in c:\\python_test\\venv20211007\\lib\\site-packages (from matplotlib) (0.10.0)\n",
      "Requirement already satisfied: kiwisolver>=1.0.1 in c:\\python_test\\venv20211007\\lib\\site-packages (from matplotlib) (1.3.2)\n",
      "Requirement already satisfied: numpy>=1.16 in c:\\python_test\\venv20211007\\lib\\site-packages (from matplotlib) (1.19.5)\n",
      "Requirement already satisfied: six in c:\\python_test\\venv20211007\\lib\\site-packages (from cycler>=0.10->matplotlib) (1.15.0)\n",
      "Requirement already satisfied: tqdm in c:\\python_test\\venv20211007\\lib\\site-packages (4.62.3)\n",
      "Requirement already satisfied: colorama in c:\\python_test\\venv20211007\\lib\\site-packages (from tqdm) (0.4.4)\n",
      "Collecting sounddevice\n",
      "  Downloading sounddevice-0.4.3-py3-none-win_amd64.whl (195 kB)\n",
      "Requirement already satisfied: CFFI>=1.0 in c:\\python_test\\venv20211007\\lib\\site-packages (from sounddevice) (1.15.0)\n",
      "Requirement already satisfied: pycparser in c:\\python_test\\venv20211007\\lib\\site-packages (from CFFI>=1.0->sounddevice) (2.21)\n",
      "Installing collected packages: sounddevice\n",
      "Successfully installed sounddevice-0.4.3\n",
      "Collecting tensorflow-gpu==2.6.0\n",
      "  Using cached tensorflow_gpu-2.6.0-cp38-cp38-win_amd64.whl (423.3 MB)\n",
      "Requirement already satisfied: typing-extensions~=3.7.4 in c:\\python_test\\venv20211007\\lib\\site-packages (from tensorflow-gpu==2.6.0) (3.7.4.3)\n",
      "Requirement already satisfied: opt-einsum~=3.3.0 in c:\\python_test\\venv20211007\\lib\\site-packages (from tensorflow-gpu==2.6.0) (3.3.0)\n",
      "Requirement already satisfied: six~=1.15.0 in c:\\python_test\\venv20211007\\lib\\site-packages (from tensorflow-gpu==2.6.0) (1.15.0)\n",
      "Requirement already satisfied: tensorboard~=2.6 in c:\\python_test\\venv20211007\\lib\\site-packages (from tensorflow-gpu==2.6.0) (2.6.0)\n",
      "Requirement already satisfied: astunparse~=1.6.3 in c:\\python_test\\venv20211007\\lib\\site-packages (from tensorflow-gpu==2.6.0) (1.6.3)\n",
      "Requirement already satisfied: google-pasta~=0.2 in c:\\python_test\\venv20211007\\lib\\site-packages (from tensorflow-gpu==2.6.0) (0.2.0)\n",
      "Requirement already satisfied: tensorflow-estimator~=2.6 in c:\\python_test\\venv20211007\\lib\\site-packages (from tensorflow-gpu==2.6.0) (2.6.0)\n",
      "Requirement already satisfied: grpcio<2.0,>=1.37.0 in c:\\python_test\\venv20211007\\lib\\site-packages (from tensorflow-gpu==2.6.0) (1.41.0)\n",
      "Requirement already satisfied: numpy~=1.19.2 in c:\\python_test\\venv20211007\\lib\\site-packages (from tensorflow-gpu==2.6.0) (1.19.5)\n",
      "Requirement already satisfied: flatbuffers~=1.12.0 in c:\\python_test\\venv20211007\\lib\\site-packages (from tensorflow-gpu==2.6.0) (1.12)\n",
      "Requirement already satisfied: clang~=5.0 in c:\\python_test\\venv20211007\\lib\\site-packages (from tensorflow-gpu==2.6.0) (5.0)\n",
      "Requirement already satisfied: gast==0.4.0 in c:\\python_test\\venv20211007\\lib\\site-packages (from tensorflow-gpu==2.6.0) (0.4.0)\n",
      "Requirement already satisfied: absl-py~=0.10 in c:\\python_test\\venv20211007\\lib\\site-packages (from tensorflow-gpu==2.6.0) (0.14.1)\n",
      "Requirement already satisfied: keras-preprocessing~=1.1.2 in c:\\python_test\\venv20211007\\lib\\site-packages (from tensorflow-gpu==2.6.0) (1.1.2)\n",
      "Requirement already satisfied: protobuf>=3.9.2 in c:\\python_test\\venv20211007\\lib\\site-packages (from tensorflow-gpu==2.6.0) (3.18.1)\n",
      "Requirement already satisfied: keras~=2.6 in c:\\python_test\\venv20211007\\lib\\site-packages (from tensorflow-gpu==2.6.0) (2.6.0)\n",
      "Requirement already satisfied: h5py~=3.1.0 in c:\\python_test\\venv20211007\\lib\\site-packages (from tensorflow-gpu==2.6.0) (3.1.0)\n",
      "Requirement already satisfied: wheel~=0.35 in c:\\python_test\\venv20211007\\lib\\site-packages (from tensorflow-gpu==2.6.0) (0.37.0)\n",
      "Requirement already satisfied: wrapt~=1.12.1 in c:\\python_test\\venv20211007\\lib\\site-packages (from tensorflow-gpu==2.6.0) (1.12.1)\n",
      "Requirement already satisfied: termcolor~=1.1.0 in c:\\python_test\\venv20211007\\lib\\site-packages (from tensorflow-gpu==2.6.0) (1.1.0)\n",
      "Requirement already satisfied: markdown>=2.6.8 in c:\\python_test\\venv20211007\\lib\\site-packages (from tensorboard~=2.6->tensorflow-gpu==2.6.0) (3.3.4)\n",
      "Requirement already satisfied: werkzeug>=0.11.15 in c:\\python_test\\venv20211007\\lib\\site-packages (from tensorboard~=2.6->tensorflow-gpu==2.6.0) (2.0.2)\n",
      "Requirement already satisfied: tensorboard-data-server<0.7.0,>=0.6.0 in c:\\python_test\\venv20211007\\lib\\site-packages (from tensorboard~=2.6->tensorflow-gpu==2.6.0) (0.6.1)\n",
      "Requirement already satisfied: requests<3,>=2.21.0 in c:\\python_test\\venv20211007\\lib\\site-packages (from tensorboard~=2.6->tensorflow-gpu==2.6.0) (2.26.0)\n",
      "Requirement already satisfied: tensorboard-plugin-wit>=1.6.0 in c:\\python_test\\venv20211007\\lib\\site-packages (from tensorboard~=2.6->tensorflow-gpu==2.6.0) (1.8.0)\n",
      "Requirement already satisfied: google-auth-oauthlib<0.5,>=0.4.1 in c:\\python_test\\venv20211007\\lib\\site-packages (from tensorboard~=2.6->tensorflow-gpu==2.6.0) (0.4.6)\n",
      "Requirement already satisfied: google-auth<2,>=1.6.3 in c:\\python_test\\venv20211007\\lib\\site-packages (from tensorboard~=2.6->tensorflow-gpu==2.6.0) (1.35.0)\n",
      "Requirement already satisfied: setuptools>=41.0.0 in c:\\python_test\\venv20211007\\lib\\site-packages (from tensorboard~=2.6->tensorflow-gpu==2.6.0) (49.2.1)\n",
      "Requirement already satisfied: rsa<5,>=3.1.4 in c:\\python_test\\venv20211007\\lib\\site-packages (from google-auth<2,>=1.6.3->tensorboard~=2.6->tensorflow-gpu==2.6.0) (4.7.2)\n",
      "Requirement already satisfied: cachetools<5.0,>=2.0.0 in c:\\python_test\\venv20211007\\lib\\site-packages (from google-auth<2,>=1.6.3->tensorboard~=2.6->tensorflow-gpu==2.6.0) (4.2.4)\n",
      "Requirement already satisfied: pyasn1-modules>=0.2.1 in c:\\python_test\\venv20211007\\lib\\site-packages (from google-auth<2,>=1.6.3->tensorboard~=2.6->tensorflow-gpu==2.6.0) (0.2.8)\n",
      "Requirement already satisfied: requests-oauthlib>=0.7.0 in c:\\python_test\\venv20211007\\lib\\site-packages (from google-auth-oauthlib<0.5,>=0.4.1->tensorboard~=2.6->tensorflow-gpu==2.6.0) (1.3.0)\n",
      "Requirement already satisfied: certifi>=2017.4.17 in c:\\python_test\\venv20211007\\lib\\site-packages (from requests<3,>=2.21.0->tensorboard~=2.6->tensorflow-gpu==2.6.0) (2021.5.30)\n",
      "Requirement already satisfied: urllib3<1.27,>=1.21.1 in c:\\python_test\\venv20211007\\lib\\site-packages (from requests<3,>=2.21.0->tensorboard~=2.6->tensorflow-gpu==2.6.0) (1.26.7)\n",
      "Requirement already satisfied: charset-normalizer~=2.0.0 in c:\\python_test\\venv20211007\\lib\\site-packages (from requests<3,>=2.21.0->tensorboard~=2.6->tensorflow-gpu==2.6.0) (2.0.6)\n",
      "Requirement already satisfied: idna<4,>=2.5 in c:\\python_test\\venv20211007\\lib\\site-packages (from requests<3,>=2.21.0->tensorboard~=2.6->tensorflow-gpu==2.6.0) (3.2)\n",
      "Requirement already satisfied: pyasn1<0.5.0,>=0.4.6 in c:\\python_test\\venv20211007\\lib\\site-packages (from pyasn1-modules>=0.2.1->google-auth<2,>=1.6.3->tensorboard~=2.6->tensorflow-gpu==2.6.0) (0.4.8)\n",
      "Requirement already satisfied: oauthlib>=3.0.0 in c:\\python_test\\venv20211007\\lib\\site-packages (from requests-oauthlib>=0.7.0->google-auth-oauthlib<0.5,>=0.4.1->tensorboard~=2.6->tensorflow-gpu==2.6.0) (3.1.1)\n",
      "Installing collected packages: tensorflow-gpu\n",
      "Successfully installed tensorflow-gpu-2.6.0\n"
     ]
    }
   ],
   "source": [
    "!pip install tensorflow==2.6.0\n",
    "!pip install librosa\n",
    "!pip install matplotlib\n",
    "!pip install tqdm\n",
    "!pip install sounddevice\n",
    "!pip install tensorflow-gpu==2.6.0"
   ]
  },
  {
   "cell_type": "code",
   "execution_count": 1,
   "metadata": {},
   "outputs": [],
   "source": [
    "# All samples\n",
    "# labels = [\n",
    "#     'left', 'cat', 'wow', 'six', 'go', 'one', 'dog', 'nine', 'sheila', 'yes',\n",
    "#     'down', 'bird', 'tree', 'up', 'eight', 'bed', 'three', 'on', 'house',\n",
    "#     'five', 'seven', 'zero', 'right', 'four', 'no', 'two', 'off', 'happy',\n",
    "#     'stop', 'marvin'\n",
    "# ]\n",
    "\n",
    "# Subsample\n",
    "labels = [\n",
    "    'left', 'go', 'yes', 'down', 'up', 'on', 'right', 'no', 'off', 'stop',\n",
    "]"
   ]
  },
  {
   "cell_type": "code",
   "execution_count": 2,
   "metadata": {},
   "outputs": [],
   "source": [
    "import tensorflow\n",
    "from tqdm import tqdm\n",
    "import librosa\n",
    "import os\n",
    "import IPython.display as ipd\n",
    "import matplotlib.pyplot as plt\n",
    "import numpy as np\n",
    "from scipy.io import wavfile\n",
    "from tqdm import tqdm"
   ]
  },
  {
   "cell_type": "markdown",
   "metadata": {},
   "source": [
    "# 데이터 준비하기"
   ]
  },
  {
   "cell_type": "code",
   "execution_count": 3,
   "metadata": {},
   "outputs": [
    {
     "name": "stderr",
     "output_type": "stream",
     "text": [
      "100%|██████████| 10/10 [03:49<00:00, 22.94s/it]\n"
     ]
    }
   ],
   "source": [
    "train_audio_path = './train/audio/'\n",
    "\n",
    "all_wave = []\n",
    "all_label = []\n",
    "for label in tqdm(labels):\n",
    "    waves = [f for f in os.listdir(train_audio_path + '/'+ label) if f.endswith('.wav')]\n",
    "    for wav in waves:\n",
    "        samples, sample_rate = librosa.load(train_audio_path + '/' + label + '/' + wav, sr = 16000)\n",
    "        samples = librosa.resample(samples, sample_rate, 8000) # image에서 normalization (1/255)\n",
    "        if(len(samples)== 8000) : \n",
    "            all_wave.append(samples)\n",
    "            all_label.append(label)"
   ]
  },
  {
   "cell_type": "code",
   "execution_count": 4,
   "metadata": {},
   "outputs": [
    {
     "data": {
      "text/plain": [
       "(list, numpy.ndarray)"
      ]
     },
     "execution_count": 4,
     "metadata": {},
     "output_type": "execute_result"
    }
   ],
   "source": [
    "type(all_wave), type(all_wave[0])"
   ]
  },
  {
   "cell_type": "code",
   "execution_count": 5,
   "metadata": {},
   "outputs": [
    {
     "data": {
      "text/plain": [
       "(list, str, 'left')"
      ]
     },
     "execution_count": 5,
     "metadata": {},
     "output_type": "execute_result"
    }
   ],
   "source": [
    "type(all_label), type(all_label[0]), all_label[0] # 타입 확인"
   ]
  },
  {
   "cell_type": "code",
   "execution_count": 6,
   "metadata": {},
   "outputs": [],
   "source": [
    "from sklearn.preprocessing import LabelEncoder\n",
    "from keras.utils import np_utils\n",
    "\n",
    "label_enconder = LabelEncoder()\n",
    "y = label_enconder.fit_transform(all_label)\n",
    "classes = list(label_enconder.classes_)\n",
    "y = np_utils.to_categorical(y, num_classes=len(labels))"
   ]
  },
  {
   "cell_type": "code",
   "execution_count": 7,
   "metadata": {},
   "outputs": [
    {
     "data": {
      "text/plain": [
       "(numpy.ndarray,\n",
       " array([[0., 0., 1., ..., 0., 0., 0.],\n",
       "        [0., 0., 1., ..., 0., 0., 0.],\n",
       "        [0., 0., 1., ..., 0., 0., 0.],\n",
       "        ...,\n",
       "        [0., 0., 0., ..., 1., 0., 0.],\n",
       "        [0., 0., 0., ..., 1., 0., 0.],\n",
       "        [0., 0., 0., ..., 1., 0., 0.]], dtype=float32))"
      ]
     },
     "execution_count": 7,
     "metadata": {},
     "output_type": "execute_result"
    }
   ],
   "source": [
    "type(y), y"
   ]
  },
  {
   "cell_type": "code",
   "execution_count": 8,
   "metadata": {},
   "outputs": [
    {
     "data": {
      "text/plain": [
       "(8000,)"
      ]
     },
     "execution_count": 8,
     "metadata": {},
     "output_type": "execute_result"
    }
   ],
   "source": [
    "all_wave[0].shape # 형태 살펴보기"
   ]
  },
  {
   "cell_type": "code",
   "execution_count": 9,
   "metadata": {},
   "outputs": [],
   "source": [
    "#conv1d 에 대한 입력은 3D배열이어야 하므로 2D배열을 3D로 변형합니다\n",
    "all_wave = np.array(all_wave).reshape(-1,8000,1)"
   ]
  },
  {
   "cell_type": "code",
   "execution_count": 10,
   "metadata": {},
   "outputs": [
    {
     "data": {
      "text/plain": [
       "(21312, 8000, 1)"
      ]
     },
     "execution_count": 10,
     "metadata": {},
     "output_type": "execute_result"
    }
   ],
   "source": [
    "all_wave.shape"
   ]
  },
  {
   "cell_type": "code",
   "execution_count": 11,
   "metadata": {},
   "outputs": [],
   "source": [
    "from sklearn.model_selection import train_test_split\n",
    "x_train, x_valid, y_train, y_valid = train_test_split(np.array(all_wave),np.array(y),stratify=y,test_size = 0.2,random_state=777,shuffle=True)\n",
    "# 데이터 나누기"
   ]
  },
  {
   "cell_type": "code",
   "execution_count": 12,
   "metadata": {},
   "outputs": [
    {
     "data": {
      "text/plain": [
       "((17049, 8000, 1), (4263, 8000, 1), (17049, 10), (4263, 10))"
      ]
     },
     "execution_count": 12,
     "metadata": {},
     "output_type": "execute_result"
    }
   ],
   "source": [
    "x_train.shape, x_valid.shape, y_train.shape, y_valid.shape"
   ]
  },
  {
   "cell_type": "markdown",
   "metadata": {},
   "source": [
    "# 모델 만들기"
   ]
  },
  {
   "cell_type": "code",
   "execution_count": 13,
   "metadata": {},
   "outputs": [],
   "source": [
    "from keras.layers import Bidirectional, BatchNormalization, GRU, CuDNNGRU, TimeDistributed"
   ]
  },
  {
   "cell_type": "code",
   "execution_count": 14,
   "metadata": {},
   "outputs": [],
   "source": [
    "# keras에서 모델을 생성하는 방법\n",
    "# 1. sequancial: 입력이 1개(90%커버 가능)\n",
    "# 2. functional: 함수형 모델\n",
    "# 3. subclass\n",
    "\n",
    "# 1,2번에서 왠만하면 마칠 것\n",
    "\n"
   ]
  },
  {
   "cell_type": "code",
   "execution_count": 15,
   "metadata": {},
   "outputs": [
    {
     "name": "stdout",
     "output_type": "stream",
     "text": [
      "Model: \"model\"\n",
      "_________________________________________________________________\n",
      "Layer (type)                 Output Shape              Param #   \n",
      "=================================================================\n",
      "input_1 (InputLayer)         [(None, 8000, 1)]         0         \n",
      "_________________________________________________________________\n",
      "batch_normalization (BatchNo (None, 8000, 1)           4         \n",
      "_________________________________________________________________\n",
      "conv1d (Conv1D)              (None, 7988, 8)           112       \n",
      "_________________________________________________________________\n",
      "max_pooling1d (MaxPooling1D) (None, 2662, 8)           0         \n",
      "_________________________________________________________________\n",
      "dropout (Dropout)            (None, 2662, 8)           0         \n",
      "_________________________________________________________________\n",
      "conv1d_1 (Conv1D)            (None, 2652, 16)          1424      \n",
      "_________________________________________________________________\n",
      "max_pooling1d_1 (MaxPooling1 (None, 884, 16)           0         \n",
      "_________________________________________________________________\n",
      "dropout_1 (Dropout)          (None, 884, 16)           0         \n",
      "_________________________________________________________________\n",
      "conv1d_2 (Conv1D)            (None, 876, 32)           4640      \n",
      "_________________________________________________________________\n",
      "max_pooling1d_2 (MaxPooling1 (None, 292, 32)           0         \n",
      "_________________________________________________________________\n",
      "dropout_2 (Dropout)          (None, 292, 32)           0         \n",
      "_________________________________________________________________\n",
      "batch_normalization_1 (Batch (None, 292, 32)           128       \n",
      "_________________________________________________________________\n",
      "bidirectional (Bidirectional (None, 292, 128)          124416    \n",
      "_________________________________________________________________\n",
      "bidirectional_1 (Bidirection (None, 292, 128)          198144    \n",
      "_________________________________________________________________\n",
      "bidirectional_2 (Bidirection (None, 128)               198144    \n",
      "_________________________________________________________________\n",
      "batch_normalization_2 (Batch (None, 128)               512       \n",
      "_________________________________________________________________\n",
      "dense (Dense)                (None, 256)               33024     \n",
      "_________________________________________________________________\n",
      "dense_1 (Dense)              (None, 10)                2570      \n",
      "=================================================================\n",
      "Total params: 563,118\n",
      "Trainable params: 562,796\n",
      "Non-trainable params: 322\n",
      "_________________________________________________________________\n"
     ]
    }
   ],
   "source": [
    "from keras.layers import Dense, Dropout, Flatten, Conv1D, Input, MaxPooling1D\n",
    "from keras.models import Model\n",
    "from keras.callbacks import EarlyStopping, ModelCheckpoint# 일찍 마치기,단계마다 저장\n",
    "from keras import backend as K\n",
    "\n",
    "inputs = Input(shape=(8000,1))\n",
    "x = BatchNormalization(axis=-1, momentum=0.99, epsilon=1e-3, center=True, scale=True)(inputs)\n",
    "\n",
    "#First Conv1D layer\n",
    "x = Conv1D(8,13, padding='valid', activation='relu', strides=1)(x)\n",
    "x = MaxPooling1D(3)(x)\n",
    "x = Dropout(0.3)(x)\n",
    "\n",
    "#Second Conv1D layer\n",
    "x = Conv1D(16, 11, padding='valid', activation='relu', strides=1)(x)\n",
    "x = MaxPooling1D(3)(x)\n",
    "x = Dropout(0.3)(x)\n",
    "\n",
    "#Third Conv1D layer\n",
    "x = Conv1D(32, 9, padding='valid', activation='relu', strides=1)(x)\n",
    "x = MaxPooling1D(3)(x)\n",
    "x = Dropout(0.3)(x)\n",
    "\n",
    "x = BatchNormalization(axis=-1, momentum=0.99, epsilon=1e-3, center=True, scale=True)(x)\n",
    "\n",
    "x = Bidirectional(GRU(128, return_sequences=True), merge_mode='sum')(x)\n",
    "x = Bidirectional(GRU(128, return_sequences=True), merge_mode='sum')(x)\n",
    "x = Bidirectional(GRU(128, return_sequences=False), merge_mode='sum')(x)\n",
    "\n",
    "x = BatchNormalization(axis=-1, momentum=0.99, epsilon=1e-3, center=True, scale=True)(x)\n",
    "\n",
    "# Flatten layer\n",
    "# x = Flatten()(x)\n",
    "\n",
    "#Dense Layer 1\n",
    "x = Dense(256, activation='relu')(x)\n",
    "outputs = Dense(len(labels), activation=\"softmax\")(x)\n",
    "\n",
    "model = Model(inputs, outputs)\n",
    "model.summary()"
   ]
  },
  {
   "cell_type": "code",
   "execution_count": 16,
   "metadata": {},
   "outputs": [],
   "source": [
    "model.compile(loss = \"categorical_crossentropy\", optimizer= \"nadam\", metrics=['accuracy'])"
   ]
  },
  {
   "cell_type": "code",
   "execution_count": 17,
   "metadata": {},
   "outputs": [],
   "source": [
    "# callback 만들기\n",
    "early_stop = EarlyStopping(monitor='val_loss', mode='min', \n",
    "                           verbose=1, patience=10, min_delta=0.0001)\n",
    "\n",
    "checkpoint = ModelCheckpoint('speech2text_model_keras.hdf5', monitor='val_accuracy', \n",
    "                             verbose=1, save_best_only=True, mode='max')"
   ]
  },
  {
   "cell_type": "code",
   "execution_count": 18,
   "metadata": {},
   "outputs": [
    {
     "name": "stdout",
     "output_type": "stream",
     "text": [
      "Epoch 1/7\n",
      "533/533 [==============================] - 59s 97ms/step - loss: 1.6972 - accuracy: 0.3709 - val_loss: 1.3970 - val_accuracy: 0.5433\n",
      "\n",
      "Epoch 00001: val_accuracy improved from -inf to 0.54328, saving model to speech2text_model_keras.hdf5\n",
      "Epoch 2/7\n",
      "533/533 [==============================] - 52s 97ms/step - loss: 0.7289 - accuracy: 0.7455 - val_loss: 0.8168 - val_accuracy: 0.7267\n",
      "\n",
      "Epoch 00002: val_accuracy improved from 0.54328 to 0.72672, saving model to speech2text_model_keras.hdf5\n",
      "Epoch 3/7\n",
      "533/533 [==============================] - 52s 98ms/step - loss: 0.4846 - accuracy: 0.8332 - val_loss: 0.3757 - val_accuracy: 0.8736\n",
      "\n",
      "Epoch 00003: val_accuracy improved from 0.72672 to 0.87356, saving model to speech2text_model_keras.hdf5\n",
      "Epoch 4/7\n",
      "533/533 [==============================] - 52s 98ms/step - loss: 0.3854 - accuracy: 0.8697 - val_loss: 0.3961 - val_accuracy: 0.8700\n",
      "\n",
      "Epoch 00004: val_accuracy did not improve from 0.87356\n",
      "Epoch 5/7\n",
      "533/533 [==============================] - 53s 99ms/step - loss: 0.3301 - accuracy: 0.8902 - val_loss: 0.3513 - val_accuracy: 0.8923\n",
      "\n",
      "Epoch 00005: val_accuracy improved from 0.87356 to 0.89233, saving model to speech2text_model_keras.hdf5\n",
      "Epoch 6/7\n",
      "533/533 [==============================] - 52s 98ms/step - loss: 0.2910 - accuracy: 0.9003 - val_loss: 0.2787 - val_accuracy: 0.9097\n",
      "\n",
      "Epoch 00006: val_accuracy improved from 0.89233 to 0.90969, saving model to speech2text_model_keras.hdf5\n",
      "Epoch 7/7\n",
      "533/533 [==============================] - 53s 99ms/step - loss: 0.2623 - accuracy: 0.9090 - val_loss: 0.3077 - val_accuracy: 0.8994\n",
      "\n",
      "Epoch 00007: val_accuracy did not improve from 0.90969\n"
     ]
    }
   ],
   "source": [
    "hist = model.fit(\n",
    "    x=x_train, \n",
    "    y=y_train,\n",
    "    epochs=7, \n",
    "    callbacks=[early_stop, checkpoint], \n",
    "    batch_size=32, \n",
    "    validation_data=(x_valid,y_valid)\n",
    ")"
   ]
  },
  {
   "cell_type": "code",
   "execution_count": 19,
   "metadata": {},
   "outputs": [
    {
     "name": "stdout",
     "output_type": "stream",
     "text": [
      "loss\n",
      "accuracy\n",
      "val_loss\n",
      "val_accuracy\n"
     ]
    }
   ],
   "source": [
    "for key in hist.history:\n",
    "    print(key)"
   ]
  },
  {
   "cell_type": "markdown",
   "metadata": {},
   "source": [
    "# 모델 불러오는 방법\n",
    "model = load_model('speech2text_model_keras.hdf5')"
   ]
  },
  {
   "cell_type": "code",
   "execution_count": 50,
   "metadata": {},
   "outputs": [],
   "source": [
    "from keras.models import load_model\n",
    "model = load_model('speech2text_model_keras.hdf5')\n"
   ]
  },
  {
   "cell_type": "code",
   "execution_count": 51,
   "metadata": {},
   "outputs": [
    {
     "data": {
      "text/plain": [
       "{'loss': [0.40529394149780273, 0.3419158458709717, 0.2942819595336914],\n",
       " 'accuracy': [0.8618687391281128, 0.8848026394844055, 0.9005807042121887],\n",
       " 'val_loss': [0.46427854895591736, 0.3848009407520294, 0.2682346999645233],\n",
       " 'val_accuracy': [0.8484635353088379, 0.8733286261558533, 0.9143795371055603]}"
      ]
     },
     "execution_count": 51,
     "metadata": {},
     "output_type": "execute_result"
    }
   ],
   "source": [
    "hist.history"
   ]
  },
  {
   "cell_type": "markdown",
   "metadata": {},
   "source": [
    "# 그래프 그리기"
   ]
  },
  {
   "cell_type": "code",
   "execution_count": 20,
   "metadata": {},
   "outputs": [
    {
     "data": {
      "image/png": "[encoded data removed]",
      "text/plain": [
       "<Figure size 432x288 with 1 Axes>"
      ]
     },
     "metadata": {
      "needs_background": "light"
     },
     "output_type": "display_data"
    },
    {
     "data": {
      "image/png": "[encoded data removed]",
      "text/plain": [
       "<Figure size 432x288 with 1 Axes>"
      ]
     },
     "metadata": {
      "needs_background": "light"
     },
     "output_type": "display_data"
    }
   ],
   "source": [
    "from helper_functions import create_tensorboard_callback, plot_loss_curves, unzip_data, compare_historys, walk_through_dir\n",
    "plot_loss_curves(hist)"
   ]
  },
  {
   "cell_type": "code",
   "execution_count": 26,
   "metadata": {},
   "outputs": [
    {
     "data": {
      "image/png": "[encoded data removed]",
      "text/plain": [
       "<Figure size 432x288 with 1 Axes>"
      ]
     },
     "metadata": {
      "needs_background": "light"
     },
     "output_type": "display_data"
    }
   ],
   "source": [
    "# 다른 방식으로 그리기\n",
    "from matplotlib import pyplot\n",
    "pyplot.plot(hist.history['loss'], label='train')\n",
    "pyplot.plot(hist.history['val_loss'], label='test')\n",
    "pyplot.plot(hist.history['accuracy'], label='train')\n",
    "pyplot.plot(hist.history['val_accuracy'], label='test')\n",
    "pyplot.legend()\n",
    "pyplot.show()"
   ]
  },
  {
   "cell_type": "code",
   "execution_count": 27,
   "metadata": {},
   "outputs": [],
   "source": [
    "def s2t_predict(audio, shape_num=8000):\n",
    "    prob=model.predict(audio.reshape(1,shape_num,1))\n",
    "    index=np.argmax(prob[0])\n",
    "    return classes[index]"
   ]
  },
  {
   "cell_type": "code",
   "execution_count": 34,
   "metadata": {},
   "outputs": [
    {
     "name": "stdout",
     "output_type": "stream",
     "text": [
      "Audio: off\n"
     ]
    },
    {
     "data": {
      "text/html": [
       "\n",
       "                <audio  controls=\"controls\" >\n",
       "                    <source src=\"data:audio/wav;base64,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\" type=\"audio/wav\" />\n",
       "                    Your browser does not support the audio element.\n",
       "                </audio>\n",
       "              "
      ],
      "text/plain": [
       "<IPython.lib.display.Audio object>"
      ]
     },
     "execution_count": 34,
     "metadata": {},
     "output_type": "execute_result"
    }
   ],
   "source": [
    "import random\n",
    "index=random.randint(0,len(x_valid)-1)\n",
    "samples=x_valid[index].ravel()\n",
    "print(\"Audio:\",classes[np.argmax(y_valid[index])])\n",
    "ipd.Audio(samples, rate=8000)"
   ]
  },
  {
   "cell_type": "code",
   "execution_count": 35,
   "metadata": {},
   "outputs": [
    {
     "data": {
      "text/plain": [
       "(8000,)"
      ]
     },
     "execution_count": 35,
     "metadata": {},
     "output_type": "execute_result"
    }
   ],
   "source": [
    "samples.shape"
   ]
  },
  {
   "cell_type": "code",
   "execution_count": 36,
   "metadata": {},
   "outputs": [
    {
     "name": "stdout",
     "output_type": "stream",
     "text": [
      "Text: off\n"
     ]
    }
   ],
   "source": [
    "print(\"Text:\",s2t_predict(samples))"
   ]
  },
  {
   "cell_type": "code",
   "execution_count": 48,
   "metadata": {},
   "outputs": [
    {
     "name": "stdout",
     "output_type": "stream",
     "text": [
      "start\n",
      "end\n"
     ]
    }
   ],
   "source": [
    "import sounddevice as sd\n",
    "import soundfile as sf\n",
    "\n",
    "samplerate = 16000  \n",
    "duration = 1 # seconds\n",
    "filename = 'test.wav'\n",
    "print(\"start\")\n",
    "mydata = sd.rec(int(samplerate * duration), samplerate=samplerate,\n",
    "    channels=1, blocking=True)\n",
    "print(\"end\")\n",
    "sd.wait()\n",
    "sf.write(filename, mydata, samplerate)"
   ]
  },
  {
   "cell_type": "code",
   "execution_count": 49,
   "metadata": {},
   "outputs": [
    {
     "name": "stdout",
     "output_type": "stream",
     "text": [
      "(8000,)\n"
     ]
    },
    {
     "data": {
      "text/html": [
       "\n",
       "                <audio  controls=\"controls\" >\n",
       "                    <source src=\"data:audio/wav;base64,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\" type=\"audio/wav\" />\n",
       "                    Your browser does not support the audio element.\n",
       "                </audio>\n",
       "              "
      ],
      "text/plain": [
       "<IPython.lib.display.Audio object>"
      ]
     },
     "execution_count": 49,
     "metadata": {},
     "output_type": "execute_result"
    }
   ],
   "source": [
    "#reading the voice commands\n",
    "test, test_rate = librosa.load('test.wav', sr = 16000)\n",
    "test_sample = librosa.resample(test, test_rate, 8000)\n",
    "print(test_sample.shape)\n",
    "ipd.Audio(test_sample,rate=8000)   "
   ]
  },
  {
   "cell_type": "code",
   "execution_count": 50,
   "metadata": {},
   "outputs": [
    {
     "data": {
      "text/plain": [
       "'yes'"
      ]
     },
     "execution_count": 50,
     "metadata": {},
     "output_type": "execute_result"
    }
   ],
   "source": [
    "s2t_predict(test_sample)"
   ]
  },
  {
   "cell_type": "code",
   "execution_count": null,
   "metadata": {},
   "outputs": [],
   "source": []
  }
 ],
 "metadata": {
  "interpreter": {
   "hash": "8a62aa9f5b1215e5f56ca83c05f379ad0175fae8ab6d8fb825a7e31609039f31"
  },
  "kernelspec": {
   "display_name": "Python 3.8.6rc1 64-bit ('venv20211007': venv)",
   "language": "python",
   "name": "python3"
  },
  "language_info": {
   "codemirror_mode": {
    "name": "ipython",
    "version": 3
   },
   "file_extension": ".py",
   "mimetype": "text/x-python",
   "name": "python",
   "nbconvert_exporter": "python",
   "pygments_lexer": "ipython3",
   "version": "3.8.6rc1"
  },
  "orig_nbformat": 4
 },
 "nbformat": 4,
 "nbformat_minor": 2
}
