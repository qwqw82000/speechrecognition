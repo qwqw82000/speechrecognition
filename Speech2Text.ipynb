{
 "cells": [
  {
   "cell_type": "code",
   "execution_count": 1,
   "metadata": {},
   "outputs": [
    {
     "name": "stdout",
     "output_type": "stream",
     "text": [
      "Requirement already satisfied: tensorflow==2.6.0 in c:\\python_test\\venv20211007\\lib\\site-packages (2.6.0)\n",
      "Requirement already satisfied: six~=1.15.0 in c:\\python_test\\venv20211007\\lib\\site-packages (from tensorflow==2.6.0) (1.15.0)\n",
      "Requirement already satisfied: typing-extensions~=3.7.4 in c:\\python_test\\venv20211007\\lib\\site-packages (from tensorflow==2.6.0) (3.7.4.3)\n",
      "Requirement already satisfied: astunparse~=1.6.3 in c:\\python_test\\venv20211007\\lib\\site-packages (from tensorflow==2.6.0) (1.6.3)\n",
      "Requirement already satisfied: keras~=2.6 in c:\\python_test\\venv20211007\\lib\\site-packages (from tensorflow==2.6.0) (2.6.0)\n",
      "Requirement already satisfied: tensorboard~=2.6 in c:\\python_test\\venv20211007\\lib\\site-packages (from tensorflow==2.6.0) (2.6.0)\n",
      "Requirement already satisfied: clang~=5.0 in c:\\python_test\\venv20211007\\lib\\site-packages (from tensorflow==2.6.0) (5.0)\n",
      "Requirement already satisfied: wrapt~=1.12.1 in c:\\python_test\\venv20211007\\lib\\site-packages (from tensorflow==2.6.0) (1.12.1)\n",
      "Requirement already satisfied: tensorflow-estimator~=2.6 in c:\\python_test\\venv20211007\\lib\\site-packages (from tensorflow==2.6.0) (2.6.0)\n",
      "Requirement already satisfied: wheel~=0.35 in c:\\python_test\\venv20211007\\lib\\site-packages (from tensorflow==2.6.0) (0.37.0)\n",
      "Requirement already satisfied: absl-py~=0.10 in c:\\python_test\\venv20211007\\lib\\site-packages (from tensorflow==2.6.0) (0.14.1)\n",
      "Requirement already satisfied: opt-einsum~=3.3.0 in c:\\python_test\\venv20211007\\lib\\site-packages (from tensorflow==2.6.0) (3.3.0)\n",
      "Requirement already satisfied: keras-preprocessing~=1.1.2 in c:\\python_test\\venv20211007\\lib\\site-packages (from tensorflow==2.6.0) (1.1.2)\n",
      "Requirement already satisfied: termcolor~=1.1.0 in c:\\python_test\\venv20211007\\lib\\site-packages (from tensorflow==2.6.0) (1.1.0)\n",
      "Requirement already satisfied: h5py~=3.1.0 in c:\\python_test\\venv20211007\\lib\\site-packages (from tensorflow==2.6.0) (3.1.0)\n",
      "Requirement already satisfied: flatbuffers~=1.12.0 in c:\\python_test\\venv20211007\\lib\\site-packages (from tensorflow==2.6.0) (1.12)\n",
      "Requirement already satisfied: numpy~=1.19.2 in c:\\python_test\\venv20211007\\lib\\site-packages (from tensorflow==2.6.0) (1.19.5)\n",
      "Requirement already satisfied: gast==0.4.0 in c:\\python_test\\venv20211007\\lib\\site-packages (from tensorflow==2.6.0) (0.4.0)\n",
      "Requirement already satisfied: protobuf>=3.9.2 in c:\\python_test\\venv20211007\\lib\\site-packages (from tensorflow==2.6.0) (3.18.1)\n",
      "Requirement already satisfied: google-pasta~=0.2 in c:\\python_test\\venv20211007\\lib\\site-packages (from tensorflow==2.6.0) (0.2.0)\n",
      "Requirement already satisfied: grpcio<2.0,>=1.37.0 in c:\\python_test\\venv20211007\\lib\\site-packages (from tensorflow==2.6.0) (1.41.0)\n",
      "Requirement already satisfied: google-auth<2,>=1.6.3 in c:\\python_test\\venv20211007\\lib\\site-packages (from tensorboard~=2.6->tensorflow==2.6.0) (1.35.0)\n",
      "Requirement already satisfied: tensorboard-data-server<0.7.0,>=0.6.0 in c:\\python_test\\venv20211007\\lib\\site-packages (from tensorboard~=2.6->tensorflow==2.6.0) (0.6.1)\n",
      "Requirement already satisfied: requests<3,>=2.21.0 in c:\\python_test\\venv20211007\\lib\\site-packages (from tensorboard~=2.6->tensorflow==2.6.0) (2.26.0)\n",
      "Requirement already satisfied: markdown>=2.6.8 in c:\\python_test\\venv20211007\\lib\\site-packages (from tensorboard~=2.6->tensorflow==2.6.0) (3.3.4)\n",
      "Requirement already satisfied: tensorboard-plugin-wit>=1.6.0 in c:\\python_test\\venv20211007\\lib\\site-packages (from tensorboard~=2.6->tensorflow==2.6.0) (1.8.0)\n",
      "Requirement already satisfied: setuptools>=41.0.0 in c:\\python_test\\venv20211007\\lib\\site-packages (from tensorboard~=2.6->tensorflow==2.6.0) (49.2.1)\n",
      "Requirement already satisfied: werkzeug>=0.11.15 in c:\\python_test\\venv20211007\\lib\\site-packages (from tensorboard~=2.6->tensorflow==2.6.0) (2.0.2)\n",
      "Requirement already satisfied: google-auth-oauthlib<0.5,>=0.4.1 in c:\\python_test\\venv20211007\\lib\\site-packages (from tensorboard~=2.6->tensorflow==2.6.0) (0.4.6)\n",
      "Requirement already satisfied: rsa<5,>=3.1.4 in c:\\python_test\\venv20211007\\lib\\site-packages (from google-auth<2,>=1.6.3->tensorboard~=2.6->tensorflow==2.6.0) (4.7.2)\n",
      "Requirement already satisfied: pyasn1-modules>=0.2.1 in c:\\python_test\\venv20211007\\lib\\site-packages (from google-auth<2,>=1.6.3->tensorboard~=2.6->tensorflow==2.6.0) (0.2.8)\n",
      "Requirement already satisfied: cachetools<5.0,>=2.0.0 in c:\\python_test\\venv20211007\\lib\\site-packages (from google-auth<2,>=1.6.3->tensorboard~=2.6->tensorflow==2.6.0) (4.2.4)\n",
      "Requirement already satisfied: requests-oauthlib>=0.7.0 in c:\\python_test\\venv20211007\\lib\\site-packages (from google-auth-oauthlib<0.5,>=0.4.1->tensorboard~=2.6->tensorflow==2.6.0) (1.3.0)\n",
      "Requirement already satisfied: idna<4,>=2.5 in c:\\python_test\\venv20211007\\lib\\site-packages (from requests<3,>=2.21.0->tensorboard~=2.6->tensorflow==2.6.0) (3.2)\n",
      "Requirement already satisfied: urllib3<1.27,>=1.21.1 in c:\\python_test\\venv20211007\\lib\\site-packages (from requests<3,>=2.21.0->tensorboard~=2.6->tensorflow==2.6.0) (1.26.7)\n",
      "Requirement already satisfied: certifi>=2017.4.17 in c:\\python_test\\venv20211007\\lib\\site-packages (from requests<3,>=2.21.0->tensorboard~=2.6->tensorflow==2.6.0) (2021.5.30)\n",
      "Requirement already satisfied: charset-normalizer~=2.0.0 in c:\\python_test\\venv20211007\\lib\\site-packages (from requests<3,>=2.21.0->tensorboard~=2.6->tensorflow==2.6.0) (2.0.6)\n",
      "Requirement already satisfied: pyasn1<0.5.0,>=0.4.6 in c:\\python_test\\venv20211007\\lib\\site-packages (from pyasn1-modules>=0.2.1->google-auth<2,>=1.6.3->tensorboard~=2.6->tensorflow==2.6.0) (0.4.8)\n",
      "Requirement already satisfied: oauthlib>=3.0.0 in c:\\python_test\\venv20211007\\lib\\site-packages (from requests-oauthlib>=0.7.0->google-auth-oauthlib<0.5,>=0.4.1->tensorboard~=2.6->tensorflow==2.6.0) (3.1.1)\n",
      "Collecting librosa\n",
      "  Downloading librosa-0.8.1-py3-none-any.whl (203 kB)\n",
      "Collecting soundfile>=0.10.2\n",
      "  Downloading SoundFile-0.10.3.post1-py2.py3.cp26.cp27.cp32.cp33.cp34.cp35.cp36.pp27.pp32.pp33-none-win_amd64.whl (689 kB)\n",
      "Requirement already satisfied: decorator>=3.0.0 in c:\\python_test\\venv20211007\\lib\\site-packages (from librosa) (5.1.0)\n",
      "Requirement already satisfied: numpy>=1.15.0 in c:\\python_test\\venv20211007\\lib\\site-packages (from librosa) (1.19.5)\n",
      "Collecting resampy>=0.2.2\n",
      "  Downloading resampy-0.2.2.tar.gz (323 kB)\n",
      "  Preparing metadata (setup.py): started\n",
      "  Preparing metadata (setup.py): finished with status 'done'\n",
      "Collecting numba>=0.43.0\n",
      "  Downloading numba-0.54.1-cp38-cp38-win_amd64.whl (2.3 MB)\n",
      "Collecting pooch>=1.0\n",
      "  Downloading pooch-1.5.2-py3-none-any.whl (57 kB)\n",
      "Collecting audioread>=2.0.0\n",
      "  Downloading audioread-2.1.9.tar.gz (377 kB)\n",
      "  Preparing metadata (setup.py): started\n",
      "  Preparing metadata (setup.py): finished with status 'done'\n",
      "Requirement already satisfied: scipy>=1.0.0 in c:\\python_test\\venv20211007\\lib\\site-packages (from librosa) (1.7.1)\n",
      "Requirement already satisfied: packaging>=20.0 in c:\\python_test\\venv20211007\\lib\\site-packages (from librosa) (21.2)\n",
      "Requirement already satisfied: joblib>=0.14 in c:\\python_test\\venv20211007\\lib\\site-packages (from librosa) (1.1.0)\n",
      "Requirement already satisfied: scikit-learn!=0.19.0,>=0.14.0 in c:\\python_test\\venv20211007\\lib\\site-packages (from librosa) (1.0.1)\n",
      "Requirement already satisfied: setuptools in c:\\python_test\\venv20211007\\lib\\site-packages (from numba>=0.43.0->librosa) (49.2.1)\n",
      "Collecting llvmlite<0.38,>=0.37.0rc1\n",
      "  Downloading llvmlite-0.37.0-cp38-cp38-win_amd64.whl (17.0 MB)\n",
      "Requirement already satisfied: pyparsing<3,>=2.0.2 in c:\\python_test\\venv20211007\\lib\\site-packages (from packaging>=20.0->librosa) (2.4.7)\n",
      "Requirement already satisfied: appdirs in c:\\python_test\\venv20211007\\lib\\site-packages (from pooch>=1.0->librosa) (1.4.4)\n",
      "Requirement already satisfied: requests in c:\\python_test\\venv20211007\\lib\\site-packages (from pooch>=1.0->librosa) (2.26.0)\n",
      "Requirement already satisfied: six>=1.3 in c:\\python_test\\venv20211007\\lib\\site-packages (from resampy>=0.2.2->librosa) (1.15.0)\n",
      "Requirement already satisfied: threadpoolctl>=2.0.0 in c:\\python_test\\venv20211007\\lib\\site-packages (from scikit-learn!=0.19.0,>=0.14.0->librosa) (3.0.0)\n",
      "Requirement already satisfied: cffi>=1.0 in c:\\python_test\\venv20211007\\lib\\site-packages (from soundfile>=0.10.2->librosa) (1.15.0)\n",
      "Requirement already satisfied: pycparser in c:\\python_test\\venv20211007\\lib\\site-packages (from cffi>=1.0->soundfile>=0.10.2->librosa) (2.21)\n",
      "Requirement already satisfied: urllib3<1.27,>=1.21.1 in c:\\python_test\\venv20211007\\lib\\site-packages (from requests->pooch>=1.0->librosa) (1.26.7)\n",
      "Requirement already satisfied: certifi>=2017.4.17 in c:\\python_test\\venv20211007\\lib\\site-packages (from requests->pooch>=1.0->librosa) (2021.5.30)\n",
      "Requirement already satisfied: idna<4,>=2.5 in c:\\python_test\\venv20211007\\lib\\site-packages (from requests->pooch>=1.0->librosa) (3.2)\n",
      "Requirement already satisfied: charset-normalizer~=2.0.0 in c:\\python_test\\venv20211007\\lib\\site-packages (from requests->pooch>=1.0->librosa) (2.0.6)\n",
      "Building wheels for collected packages: audioread, resampy\n",
      "  Building wheel for audioread (setup.py): started\n",
      "  Building wheel for audioread (setup.py): finished with status 'done'\n",
      "  Created wheel for audioread: filename=audioread-2.1.9-py3-none-any.whl size=23143 sha256=514a087793d45acff41fe8f3f9e2123c43e35a29181467a4d925955d090d8597\n",
      "  Stored in directory: c:\\users\\user\\appdata\\local\\pip\\cache\\wheels\\49\\5a\\e4\\df590783499a992a88de6c0898991d1167453a3196d0d1eeb7\n",
      "  Building wheel for resampy (setup.py): started\n",
      "  Building wheel for resampy (setup.py): finished with status 'done'\n",
      "  Created wheel for resampy: filename=resampy-0.2.2-py3-none-any.whl size=320719 sha256=219bfe24dfe0a7fee952ecd8da17c4f4ad151057d59b8279ec8e7d362fe20b1a\n",
      "  Stored in directory: c:\\users\\user\\appdata\\local\\pip\\cache\\wheels\\6f\\d1\\5d\\f13da53b1dcbc2624ff548456c9ffb526c914f53c12c318bb4\n",
      "Successfully built audioread resampy\n",
      "Installing collected packages: llvmlite, numba, soundfile, resampy, pooch, audioread, librosa\n",
      "Successfully installed audioread-2.1.9 librosa-0.8.1 llvmlite-0.37.0 numba-0.54.1 pooch-1.5.2 resampy-0.2.2 soundfile-0.10.3.post1\n",
      "Requirement already satisfied: matplotlib in c:\\python_test\\venv20211007\\lib\\site-packages (3.4.3)\n",
      "Requirement already satisfied: pillow>=6.2.0 in c:\\python_test\\venv20211007\\lib\\site-packages (from matplotlib) (8.3.2)\n",
      "Requirement already satisfied: python-dateutil>=2.7 in c:\\python_test\\venv20211007\\lib\\site-packages (from matplotlib) (2.8.2)\n",
      "Requirement already satisfied: pyparsing>=2.2.1 in c:\\python_test\\venv20211007\\lib\\site-packages (from matplotlib) (2.4.7)\n",
      "Requirement already satisfied: cycler>=0.10 in c:\\python_test\\venv20211007\\lib\\site-packages (from matplotlib) (0.10.0)\n",
      "Requirement already satisfied: kiwisolver>=1.0.1 in c:\\python_test\\venv20211007\\lib\\site-packages (from matplotlib) (1.3.2)\n",
      "Requirement already satisfied: numpy>=1.16 in c:\\python_test\\venv20211007\\lib\\site-packages (from matplotlib) (1.19.5)\n",
      "Requirement already satisfied: six in c:\\python_test\\venv20211007\\lib\\site-packages (from cycler>=0.10->matplotlib) (1.15.0)\n",
      "Requirement already satisfied: tqdm in c:\\python_test\\venv20211007\\lib\\site-packages (4.62.3)\n",
      "Requirement already satisfied: colorama in c:\\python_test\\venv20211007\\lib\\site-packages (from tqdm) (0.4.4)\n",
      "Collecting sounddevice\n",
      "  Downloading sounddevice-0.4.3-py3-none-win_amd64.whl (195 kB)\n",
      "Requirement already satisfied: CFFI>=1.0 in c:\\python_test\\venv20211007\\lib\\site-packages (from sounddevice) (1.15.0)\n",
      "Requirement already satisfied: pycparser in c:\\python_test\\venv20211007\\lib\\site-packages (from CFFI>=1.0->sounddevice) (2.21)\n",
      "Installing collected packages: sounddevice\n",
      "Successfully installed sounddevice-0.4.3\n",
      "Collecting tensorflow-gpu==2.6.0\n",
      "  Using cached tensorflow_gpu-2.6.0-cp38-cp38-win_amd64.whl (423.3 MB)\n",
      "Requirement already satisfied: typing-extensions~=3.7.4 in c:\\python_test\\venv20211007\\lib\\site-packages (from tensorflow-gpu==2.6.0) (3.7.4.3)\n",
      "Requirement already satisfied: opt-einsum~=3.3.0 in c:\\python_test\\venv20211007\\lib\\site-packages (from tensorflow-gpu==2.6.0) (3.3.0)\n",
      "Requirement already satisfied: six~=1.15.0 in c:\\python_test\\venv20211007\\lib\\site-packages (from tensorflow-gpu==2.6.0) (1.15.0)\n",
      "Requirement already satisfied: tensorboard~=2.6 in c:\\python_test\\venv20211007\\lib\\site-packages (from tensorflow-gpu==2.6.0) (2.6.0)\n",
      "Requirement already satisfied: astunparse~=1.6.3 in c:\\python_test\\venv20211007\\lib\\site-packages (from tensorflow-gpu==2.6.0) (1.6.3)\n",
      "Requirement already satisfied: google-pasta~=0.2 in c:\\python_test\\venv20211007\\lib\\site-packages (from tensorflow-gpu==2.6.0) (0.2.0)\n",
      "Requirement already satisfied: tensorflow-estimator~=2.6 in c:\\python_test\\venv20211007\\lib\\site-packages (from tensorflow-gpu==2.6.0) (2.6.0)\n",
      "Requirement already satisfied: grpcio<2.0,>=1.37.0 in c:\\python_test\\venv20211007\\lib\\site-packages (from tensorflow-gpu==2.6.0) (1.41.0)\n",
      "Requirement already satisfied: numpy~=1.19.2 in c:\\python_test\\venv20211007\\lib\\site-packages (from tensorflow-gpu==2.6.0) (1.19.5)\n",
      "Requirement already satisfied: flatbuffers~=1.12.0 in c:\\python_test\\venv20211007\\lib\\site-packages (from tensorflow-gpu==2.6.0) (1.12)\n",
      "Requirement already satisfied: clang~=5.0 in c:\\python_test\\venv20211007\\lib\\site-packages (from tensorflow-gpu==2.6.0) (5.0)\n",
      "Requirement already satisfied: gast==0.4.0 in c:\\python_test\\venv20211007\\lib\\site-packages (from tensorflow-gpu==2.6.0) (0.4.0)\n",
      "Requirement already satisfied: absl-py~=0.10 in c:\\python_test\\venv20211007\\lib\\site-packages (from tensorflow-gpu==2.6.0) (0.14.1)\n",
      "Requirement already satisfied: keras-preprocessing~=1.1.2 in c:\\python_test\\venv20211007\\lib\\site-packages (from tensorflow-gpu==2.6.0) (1.1.2)\n",
      "Requirement already satisfied: protobuf>=3.9.2 in c:\\python_test\\venv20211007\\lib\\site-packages (from tensorflow-gpu==2.6.0) (3.18.1)\n",
      "Requirement already satisfied: keras~=2.6 in c:\\python_test\\venv20211007\\lib\\site-packages (from tensorflow-gpu==2.6.0) (2.6.0)\n",
      "Requirement already satisfied: h5py~=3.1.0 in c:\\python_test\\venv20211007\\lib\\site-packages (from tensorflow-gpu==2.6.0) (3.1.0)\n",
      "Requirement already satisfied: wheel~=0.35 in c:\\python_test\\venv20211007\\lib\\site-packages (from tensorflow-gpu==2.6.0) (0.37.0)\n",
      "Requirement already satisfied: wrapt~=1.12.1 in c:\\python_test\\venv20211007\\lib\\site-packages (from tensorflow-gpu==2.6.0) (1.12.1)\n",
      "Requirement already satisfied: termcolor~=1.1.0 in c:\\python_test\\venv20211007\\lib\\site-packages (from tensorflow-gpu==2.6.0) (1.1.0)\n",
      "Requirement already satisfied: markdown>=2.6.8 in c:\\python_test\\venv20211007\\lib\\site-packages (from tensorboard~=2.6->tensorflow-gpu==2.6.0) (3.3.4)\n",
      "Requirement already satisfied: werkzeug>=0.11.15 in c:\\python_test\\venv20211007\\lib\\site-packages (from tensorboard~=2.6->tensorflow-gpu==2.6.0) (2.0.2)\n",
      "Requirement already satisfied: tensorboard-data-server<0.7.0,>=0.6.0 in c:\\python_test\\venv20211007\\lib\\site-packages (from tensorboard~=2.6->tensorflow-gpu==2.6.0) (0.6.1)\n",
      "Requirement already satisfied: requests<3,>=2.21.0 in c:\\python_test\\venv20211007\\lib\\site-packages (from tensorboard~=2.6->tensorflow-gpu==2.6.0) (2.26.0)\n",
      "Requirement already satisfied: tensorboard-plugin-wit>=1.6.0 in c:\\python_test\\venv20211007\\lib\\site-packages (from tensorboard~=2.6->tensorflow-gpu==2.6.0) (1.8.0)\n",
      "Requirement already satisfied: google-auth-oauthlib<0.5,>=0.4.1 in c:\\python_test\\venv20211007\\lib\\site-packages (from tensorboard~=2.6->tensorflow-gpu==2.6.0) (0.4.6)\n",
      "Requirement already satisfied: google-auth<2,>=1.6.3 in c:\\python_test\\venv20211007\\lib\\site-packages (from tensorboard~=2.6->tensorflow-gpu==2.6.0) (1.35.0)\n",
      "Requirement already satisfied: setuptools>=41.0.0 in c:\\python_test\\venv20211007\\lib\\site-packages (from tensorboard~=2.6->tensorflow-gpu==2.6.0) (49.2.1)\n",
      "Requirement already satisfied: rsa<5,>=3.1.4 in c:\\python_test\\venv20211007\\lib\\site-packages (from google-auth<2,>=1.6.3->tensorboard~=2.6->tensorflow-gpu==2.6.0) (4.7.2)\n",
      "Requirement already satisfied: cachetools<5.0,>=2.0.0 in c:\\python_test\\venv20211007\\lib\\site-packages (from google-auth<2,>=1.6.3->tensorboard~=2.6->tensorflow-gpu==2.6.0) (4.2.4)\n",
      "Requirement already satisfied: pyasn1-modules>=0.2.1 in c:\\python_test\\venv20211007\\lib\\site-packages (from google-auth<2,>=1.6.3->tensorboard~=2.6->tensorflow-gpu==2.6.0) (0.2.8)\n",
      "Requirement already satisfied: requests-oauthlib>=0.7.0 in c:\\python_test\\venv20211007\\lib\\site-packages (from google-auth-oauthlib<0.5,>=0.4.1->tensorboard~=2.6->tensorflow-gpu==2.6.0) (1.3.0)\n",
      "Requirement already satisfied: certifi>=2017.4.17 in c:\\python_test\\venv20211007\\lib\\site-packages (from requests<3,>=2.21.0->tensorboard~=2.6->tensorflow-gpu==2.6.0) (2021.5.30)\n",
      "Requirement already satisfied: urllib3<1.27,>=1.21.1 in c:\\python_test\\venv20211007\\lib\\site-packages (from requests<3,>=2.21.0->tensorboard~=2.6->tensorflow-gpu==2.6.0) (1.26.7)\n",
      "Requirement already satisfied: charset-normalizer~=2.0.0 in c:\\python_test\\venv20211007\\lib\\site-packages (from requests<3,>=2.21.0->tensorboard~=2.6->tensorflow-gpu==2.6.0) (2.0.6)\n",
      "Requirement already satisfied: idna<4,>=2.5 in c:\\python_test\\venv20211007\\lib\\site-packages (from requests<3,>=2.21.0->tensorboard~=2.6->tensorflow-gpu==2.6.0) (3.2)\n",
      "Requirement already satisfied: pyasn1<0.5.0,>=0.4.6 in c:\\python_test\\venv20211007\\lib\\site-packages (from pyasn1-modules>=0.2.1->google-auth<2,>=1.6.3->tensorboard~=2.6->tensorflow-gpu==2.6.0) (0.4.8)\n",
      "Requirement already satisfied: oauthlib>=3.0.0 in c:\\python_test\\venv20211007\\lib\\site-packages (from requests-oauthlib>=0.7.0->google-auth-oauthlib<0.5,>=0.4.1->tensorboard~=2.6->tensorflow-gpu==2.6.0) (3.1.1)\n",
      "Installing collected packages: tensorflow-gpu\n",
      "Successfully installed tensorflow-gpu-2.6.0\n"
     ]
    }
   ],
   "source": [
    "!pip install tensorflow==2.6.0\n",
    "!pip install librosa\n",
    "!pip install matplotlib\n",
    "!pip install tqdm\n",
    "!pip install sounddevice\n",
    "!pip install tensorflow-gpu==2.6.0"
   ]
  },
  {
   "cell_type": "code",
   "execution_count": 7,
   "metadata": {},
   "outputs": [],
   "source": [
    "# All samples\n",
    "# labels = [\n",
    "#     'left', 'cat', 'wow', 'six', 'go', 'one', 'dog', 'nine', 'sheila', 'yes',\n",
    "#     'down', 'bird', 'tree', 'up', 'eight', 'bed', 'three', 'on', 'house',\n",
    "#     'five', 'seven', 'zero', 'right', 'four', 'no', 'two', 'off', 'happy',\n",
    "#     'stop', 'marvin'\n",
    "# ]\n",
    "\n",
    "# Subsample\n",
    "labels = [\n",
    "    'left', 'go', 'yes', 'down', 'up', 'on', 'right', 'no', 'off', 'stop',\n",
    "]"
   ]
  },
  {
   "cell_type": "code",
   "execution_count": 28,
   "metadata": {},
   "outputs": [],
   "source": [
    "import tensorflow\n",
    "from tqdm import tqdm\n",
    "import librosa\n",
    "import os\n",
    "import IPython.display as ipd\n",
    "import matplotlib.pyplot as plt\n",
    "import numpy as np\n",
    "from scipy.io import wavfile\n",
    "from tqdm import tqdm"
   ]
  },
  {
   "cell_type": "markdown",
   "metadata": {},
   "source": [
    "# 데이터 준비하기"
   ]
  },
  {
   "cell_type": "code",
   "execution_count": 21,
   "metadata": {},
   "outputs": [
    {
     "name": "stderr",
     "output_type": "stream",
     "text": [
      "100%|██████████| 10/10 [05:09<00:00, 30.95s/it]\n"
     ]
    }
   ],
   "source": [
    "train_audio_path = './train/audio/'\n",
    "\n",
    "all_wave = []\n",
    "all_label = []\n",
    "for label in tqdm(labels):\n",
    "    waves = [f for f in os.listdir(train_audio_path + '/'+ label) if f.endswith('.wav')]\n",
    "    for wav in waves:\n",
    "        samples, sample_rate = librosa.load(train_audio_path + '/' + label + '/' + wav, sr = 16000)\n",
    "        samples = librosa.resample(samples, sample_rate, 8000) # image에서 normalization (1/255)\n",
    "        if(len(samples)== 8000) : \n",
    "            all_wave.append(samples)\n",
    "            all_label.append(label)"
   ]
  },
  {
   "cell_type": "code",
   "execution_count": 22,
   "metadata": {},
   "outputs": [
    {
     "data": {
      "text/plain": [
       "(list, numpy.ndarray)"
      ]
     },
     "execution_count": 22,
     "metadata": {},
     "output_type": "execute_result"
    }
   ],
   "source": [
    "type(all_wave), type(all_wave[0])"
   ]
  },
  {
   "cell_type": "code",
   "execution_count": 23,
   "metadata": {},
   "outputs": [
    {
     "data": {
      "text/plain": [
       "(list, str, 'left')"
      ]
     },
     "execution_count": 23,
     "metadata": {},
     "output_type": "execute_result"
    }
   ],
   "source": [
    "type(all_label), type(all_label[0]), all_label[0] # 타입 확인"
   ]
  },
  {
   "cell_type": "code",
   "execution_count": 24,
   "metadata": {},
   "outputs": [],
   "source": [
    "from sklearn.preprocessing import LabelEncoder\n",
    "from keras.utils import np_utils\n",
    "\n",
    "label_enconder = LabelEncoder()\n",
    "y = label_enconder.fit_transform(all_label)\n",
    "classes = list(label_enconder.classes_)\n",
    "y = np_utils.to_categorical(y, num_classes=len(labels))"
   ]
  },
  {
   "cell_type": "code",
   "execution_count": 25,
   "metadata": {},
   "outputs": [
    {
     "data": {
      "text/plain": [
       "(numpy.ndarray,\n",
       " array([[0., 0., 1., ..., 0., 0., 0.],\n",
       "        [0., 0., 1., ..., 0., 0., 0.],\n",
       "        [0., 0., 1., ..., 0., 0., 0.],\n",
       "        ...,\n",
       "        [0., 0., 0., ..., 1., 0., 0.],\n",
       "        [0., 0., 0., ..., 1., 0., 0.],\n",
       "        [0., 0., 0., ..., 1., 0., 0.]], dtype=float32))"
      ]
     },
     "execution_count": 25,
     "metadata": {},
     "output_type": "execute_result"
    }
   ],
   "source": [
    "type(y), y"
   ]
  },
  {
   "cell_type": "code",
   "execution_count": 26,
   "metadata": {},
   "outputs": [
    {
     "data": {
      "text/plain": [
       "(8000,)"
      ]
     },
     "execution_count": 26,
     "metadata": {},
     "output_type": "execute_result"
    }
   ],
   "source": [
    "all_wave[0].shape # 형태 살펴보기"
   ]
  },
  {
   "cell_type": "code",
   "execution_count": 29,
   "metadata": {},
   "outputs": [],
   "source": [
    "#conv1d 에 대한 입력은 3D배열이어야 하므로 2D배열을 3D로 변형합니다\n",
    "all_wave = np.array(all_wave).reshape(-1,8000,1)"
   ]
  },
  {
   "cell_type": "code",
   "execution_count": 31,
   "metadata": {},
   "outputs": [
    {
     "data": {
      "text/plain": [
       "(21312, 8000, 1)"
      ]
     },
     "execution_count": 31,
     "metadata": {},
     "output_type": "execute_result"
    }
   ],
   "source": [
    "all_wave.shape"
   ]
  },
  {
   "cell_type": "code",
   "execution_count": 32,
   "metadata": {},
   "outputs": [],
   "source": [
    "from sklearn.model_selection import train_test_split\n",
    "x_train, x_valid, y_train, y_valid = train_test_split(np.array(all_wave),np.array(y),stratify=y,test_size = 0.2,random_state=777,shuffle=True)\n",
    "# 데이터 나누기"
   ]
  },
  {
   "cell_type": "code",
   "execution_count": 34,
   "metadata": {},
   "outputs": [
    {
     "data": {
      "text/plain": [
       "((17049, 8000, 1), (4263, 8000, 1), (17049, 10), (4263, 10))"
      ]
     },
     "execution_count": 34,
     "metadata": {},
     "output_type": "execute_result"
    }
   ],
   "source": [
    "x_train.shape, x_valid.shape, y_train.shape, y_valid.shape"
   ]
  },
  {
   "cell_type": "markdown",
   "metadata": {},
   "source": [
    "# 모델 만들기"
   ]
  },
  {
   "cell_type": "code",
   "execution_count": 35,
   "metadata": {},
   "outputs": [],
   "source": [
    "from keras.layers import Bidirectional, BatchNormalization, GRU, CuDNNGRU, TimeDistributed"
   ]
  },
  {
   "cell_type": "code",
   "execution_count": null,
   "metadata": {},
   "outputs": [],
   "source": [
    "# keras에서 모델을 생성하는 방법\n",
    "# 1. sequancial: 입력이 1개(90%커버 가능)\n",
    "# 2. functional: 함수형 모델\n",
    "# 3. subclass\n",
    "\n",
    "# 1,2번에서 왠만하면 마칠 것\n",
    "\n"
   ]
  },
  {
   "cell_type": "code",
   "execution_count": 38,
   "metadata": {},
   "outputs": [
    {
     "name": "stdout",
     "output_type": "stream",
     "text": [
      "Model: \"model\"\n",
      "_________________________________________________________________\n",
      "Layer (type)                 Output Shape              Param #   \n",
      "=================================================================\n",
      "input_1 (InputLayer)         [(None, 8000, 1)]         0         \n",
      "_________________________________________________________________\n",
      "batch_normalization (BatchNo (None, 8000, 1)           4         \n",
      "_________________________________________________________________\n",
      "conv1d (Conv1D)              (None, 7988, 8)           112       \n",
      "_________________________________________________________________\n",
      "max_pooling1d (MaxPooling1D) (None, 2662, 8)           0         \n",
      "_________________________________________________________________\n",
      "dropout (Dropout)            (None, 2662, 8)           0         \n",
      "_________________________________________________________________\n",
      "conv1d_1 (Conv1D)            (None, 2652, 16)          1424      \n",
      "_________________________________________________________________\n",
      "max_pooling1d_1 (MaxPooling1 (None, 884, 16)           0         \n",
      "_________________________________________________________________\n",
      "dropout_1 (Dropout)          (None, 884, 16)           0         \n",
      "_________________________________________________________________\n",
      "conv1d_2 (Conv1D)            (None, 876, 32)           4640      \n",
      "_________________________________________________________________\n",
      "max_pooling1d_2 (MaxPooling1 (None, 292, 32)           0         \n",
      "_________________________________________________________________\n",
      "dropout_2 (Dropout)          (None, 292, 32)           0         \n",
      "_________________________________________________________________\n",
      "batch_normalization_1 (Batch (None, 292, 32)           128       \n",
      "_________________________________________________________________\n",
      "bidirectional (Bidirectional (None, 292, 128)          124416    \n",
      "_________________________________________________________________\n",
      "bidirectional_1 (Bidirection (None, 292, 128)          198144    \n",
      "_________________________________________________________________\n",
      "bidirectional_2 (Bidirection (None, 128)               198144    \n",
      "_________________________________________________________________\n",
      "batch_normalization_2 (Batch (None, 128)               512       \n",
      "_________________________________________________________________\n",
      "dense (Dense)                (None, 256)               33024     \n",
      "_________________________________________________________________\n",
      "dense_1 (Dense)              (None, 10)                2570      \n",
      "=================================================================\n",
      "Total params: 563,118\n",
      "Trainable params: 562,796\n",
      "Non-trainable params: 322\n",
      "_________________________________________________________________\n"
     ]
    }
   ],
   "source": [
    "from keras.layers import Dense, Dropout, Flatten, Conv1D, Input, MaxPooling1D\n",
    "from keras.models import Model\n",
    "from keras.callbacks import EarlyStopping, ModelCheckpoint# 일찍 마치기,단계마다 저장\n",
    "from keras import backend as K\n",
    "\n",
    "inputs = Input(shape=(8000,1))\n",
    "x = BatchNormalization(axis=-1, momentum=0.99, epsilon=1e-3, center=True, scale=True)(inputs)\n",
    "\n",
    "#First Conv1D layer\n",
    "x = Conv1D(8,13, padding='valid', activation='relu', strides=1)(x)\n",
    "x = MaxPooling1D(3)(x)\n",
    "x = Dropout(0.3)(x)\n",
    "\n",
    "#Second Conv1D layer\n",
    "x = Conv1D(16, 11, padding='valid', activation='relu', strides=1)(x)\n",
    "x = MaxPooling1D(3)(x)\n",
    "x = Dropout(0.3)(x)\n",
    "\n",
    "#Third Conv1D layer\n",
    "x = Conv1D(32, 9, padding='valid', activation='relu', strides=1)(x)\n",
    "x = MaxPooling1D(3)(x)\n",
    "x = Dropout(0.3)(x)\n",
    "\n",
    "x = BatchNormalization(axis=-1, momentum=0.99, epsilon=1e-3, center=True, scale=True)(x)\n",
    "\n",
    "x = Bidirectional(GRU(128, return_sequences=True), merge_mode='sum')(x)\n",
    "x = Bidirectional(GRU(128, return_sequences=True), merge_mode='sum')(x)\n",
    "x = Bidirectional(GRU(128, return_sequences=False), merge_mode='sum')(x)\n",
    "\n",
    "x = BatchNormalization(axis=-1, momentum=0.99, epsilon=1e-3, center=True, scale=True)(x)\n",
    "\n",
    "# Flatten layer\n",
    "# x = Flatten()(x)\n",
    "\n",
    "#Dense Layer 1\n",
    "x = Dense(256, activation='relu')(x)\n",
    "outputs = Dense(len(labels), activation=\"softmax\")(x)\n",
    "\n",
    "model = Model(inputs, outputs)\n",
    "model.summary()"
   ]
  },
  {
   "cell_type": "code",
   "execution_count": 39,
   "metadata": {},
   "outputs": [],
   "source": [
    "model.compile(loss = \"categorical_crossentropy\", optimizer= \"nadam\", metrics=['accuracy'])"
   ]
  },
  {
   "cell_type": "code",
   "execution_count": 44,
   "metadata": {},
   "outputs": [],
   "source": [
    "# callback 만들기\n",
    "early_stop = EarlyStopping(monitor='val_loss', mode='min', \n",
    "                           verbose=1, patience=10, min_delta=0.0001)\n",
    "\n",
    "checkpoint = ModelCheckpoint('speech2text_model_keras.hdf5', monitor='val_accuracy', \n",
    "                             verbose=1, save_best_only=True, mode='max')"
   ]
  },
  {
   "cell_type": "code",
   "execution_count": 45,
   "metadata": {},
   "outputs": [
    {
     "name": "stdout",
     "output_type": "stream",
     "text": [
      "Epoch 1/3\n",
      "533/533 [==============================] - 55s 104ms/step - loss: 0.4053 - accuracy: 0.8619 - val_loss: 0.4643 - val_accuracy: 0.8485\n",
      "\n",
      "Epoch 00001: val_accuracy improved from -inf to 0.84846, saving model to speech2text_model_keras.hdf5\n",
      "Epoch 2/3\n",
      "533/533 [==============================] - 55s 104ms/step - loss: 0.3419 - accuracy: 0.8848 - val_loss: 0.3848 - val_accuracy: 0.8733\n",
      "\n",
      "Epoch 00002: val_accuracy improved from 0.84846 to 0.87333, saving model to speech2text_model_keras.hdf5\n",
      "Epoch 3/3\n",
      "533/533 [==============================] - 55s 104ms/step - loss: 0.2943 - accuracy: 0.9006 - val_loss: 0.2682 - val_accuracy: 0.9144\n",
      "\n",
      "Epoch 00003: val_accuracy improved from 0.87333 to 0.91438, saving model to speech2text_model_keras.hdf5\n"
     ]
    }
   ],
   "source": [
    "hist = model.fit(\n",
    "    x=x_train, \n",
    "    y=y_train,\n",
    "    epochs=3, \n",
    "    callbacks=[early_stop, checkpoint], \n",
    "    batch_size=32, \n",
    "    validation_data=(x_valid,y_valid)\n",
    ")"
   ]
  },
  {
   "cell_type": "code",
   "execution_count": 55,
   "metadata": {},
   "outputs": [
    {
     "name": "stdout",
     "output_type": "stream",
     "text": [
      "loss\n",
      "accuracy\n",
      "val_loss\n",
      "val_accuracy\n"
     ]
    }
   ],
   "source": [
    "for key in hist.history:\n",
    "    print(key)"
   ]
  },
  {
   "cell_type": "markdown",
   "metadata": {},
   "source": [
    "# 모델 불러오는 방법\n",
    "model = load_model('speech2text_model_keras.hdf5')"
   ]
  },
  {
   "cell_type": "code",
   "execution_count": 50,
   "metadata": {},
   "outputs": [],
   "source": [
    "from keras.models import load_model\n",
    "model = load_model('speech2text_model_keras.hdf5')\n"
   ]
  },
  {
   "cell_type": "code",
   "execution_count": 51,
   "metadata": {},
   "outputs": [
    {
     "data": {
      "text/plain": [
       "{'loss': [0.40529394149780273, 0.3419158458709717, 0.2942819595336914],\n",
       " 'accuracy': [0.8618687391281128, 0.8848026394844055, 0.9005807042121887],\n",
       " 'val_loss': [0.46427854895591736, 0.3848009407520294, 0.2682346999645233],\n",
       " 'val_accuracy': [0.8484635353088379, 0.8733286261558533, 0.9143795371055603]}"
      ]
     },
     "execution_count": 51,
     "metadata": {},
     "output_type": "execute_result"
    }
   ],
   "source": [
    "hist.history"
   ]
  },
  {
   "cell_type": "code",
   "execution_count": 56,
   "metadata": {},
   "outputs": [
    {
     "data": {
      "image/png": "[encoded data removed]",
      "text/plain": [
       "<Figure size 432x288 with 1 Axes>"
      ]
     },
     "metadata": {
      "needs_background": "light"
     },
     "output_type": "display_data"
    },
    {
     "data": {
      "image/png": "[encoded data removed]",
      "text/plain": [
       "<Figure size 432x288 with 1 Axes>"
      ]
     },
     "metadata": {
      "needs_background": "light"
     },
     "output_type": "display_data"
    }
   ],
   "source": [
    "from helper_functions import create_tensorboard_callback, plot_loss_curves, unzip_data, compare_historys, walk_through_dir\n",
    "plot_loss_curves(hist)"
   ]
  },
  {
   "cell_type": "code",
   "execution_count": null,
   "metadata": {},
   "outputs": [],
   "source": []
  }
 ],
 "metadata": {
  "interpreter": {
   "hash": "8a62aa9f5b1215e5f56ca83c05f379ad0175fae8ab6d8fb825a7e31609039f31"
  },
  "kernelspec": {
   "display_name": "Python 3.8.6rc1 64-bit ('venv20211007': venv)",
   "language": "python",
   "name": "python3"
  },
  "language_info": {
   "codemirror_mode": {
    "name": "ipython",
    "version": 3
   },
   "file_extension": ".py",
   "mimetype": "text/x-python",
   "name": "python",
   "nbconvert_exporter": "python",
   "pygments_lexer": "ipython3",
   "version": "3.8.6rc1"
  },
  "orig_nbformat": 4
 },
 "nbformat": 4,
 "nbformat_minor": 2
}
